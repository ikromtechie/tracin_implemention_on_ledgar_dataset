{
  "nbformat": 4,
  "nbformat_minor": 0,
  "metadata": {
    "colab": {
      "name": "Mislabelled detection using self influence.ipynb",
      "provenance": [],
      "collapsed_sections": [],
      "authorship_tag": "ABX9TyO27LGMhP2XiaZQjI/vi1kF",
      "include_colab_link": true
    },
    "kernelspec": {
      "name": "python3",
      "display_name": "Python 3"
    },
    "language_info": {
      "name": "python"
    }
  },
  "cells": [
    {
      "cell_type": "markdown",
      "metadata": {
        "id": "view-in-github",
        "colab_type": "text"
      },
      "source": [
        "<a href=\"https://colab.research.google.com/github/praseedm/tracin_implemention_on_ledgar_dataset/blob/main/Mislabelled_detection_using_self_influence.ipynb\" target=\"_parent\"><img src=\"https://colab.research.google.com/assets/colab-badge.svg\" alt=\"Open In Colab\"/></a>"
      ]
    },
    {
      "cell_type": "code",
      "execution_count": 1,
      "metadata": {
        "colab": {
          "base_uri": "https://localhost:8080/"
        },
        "id": "YE79mvzLFSYm",
        "outputId": "d63cee63-4387-4576-b9dd-97cc036f1526"
      },
      "outputs": [
        {
          "output_type": "stream",
          "name": "stdout",
          "text": [
            "Cloning into 'tracin_implemention_on_ledgar_dataset'...\n",
            "remote: Enumerating objects: 60, done.\u001b[K\n",
            "remote: Counting objects: 100% (60/60), done.\u001b[K\n",
            "remote: Compressing objects: 100% (53/53), done.\u001b[K\n",
            "remote: Total 60 (delta 26), reused 17 (delta 5), pack-reused 0\u001b[K\n",
            "Unpacking objects: 100% (60/60), done.\n"
          ]
        }
      ],
      "source": [
        "# clone git repo for data\n",
        "! git clone https://github.com/praseedm/tracin_implemention_on_ledgar_dataset.git"
      ]
    },
    {
      "cell_type": "code",
      "source": [
        "# Mount GDrive\n",
        "from google.colab import drive\n",
        "drive.mount('/content/drive')"
      ],
      "metadata": {
        "colab": {
          "base_uri": "https://localhost:8080/"
        },
        "id": "J9s8MqqNFcW8",
        "outputId": "b110a5f2-cd3c-4e9b-f210-6c21829cb70d"
      },
      "execution_count": 2,
      "outputs": [
        {
          "output_type": "stream",
          "name": "stdout",
          "text": [
            "Mounted at /content/drive\n"
          ]
        }
      ]
    },
    {
      "cell_type": "code",
      "source": [
        "%cd tracin_implemention_on_ledgar_dataset"
      ],
      "metadata": {
        "colab": {
          "base_uri": "https://localhost:8080/"
        },
        "id": "yKI7AvRNH4GR",
        "outputId": "2058a895-382d-47a8-c239-ab5d5147b8e2"
      },
      "execution_count": 3,
      "outputs": [
        {
          "output_type": "stream",
          "name": "stdout",
          "text": [
            "/content/tracin_implemention_on_ledgar_dataset\n"
          ]
        }
      ]
    },
    {
      "cell_type": "code",
      "source": [
        "# A dependency of the preprocessing for BERT inputs\n",
        "!pip install -q -U \"tensorflow-text==2.8.*\""
      ],
      "metadata": {
        "colab": {
          "base_uri": "https://localhost:8080/"
        },
        "id": "GfMbr8081jz1",
        "outputId": "6565a1ee-9e64-44a2-d0e8-d259c5ead647"
      },
      "execution_count": 15,
      "outputs": [
        {
          "output_type": "stream",
          "name": "stdout",
          "text": [
            "\u001b[K     |████████████████████████████████| 4.9 MB 5.2 MB/s \n",
            "\u001b[K     |████████████████████████████████| 462 kB 37.1 MB/s \n",
            "\u001b[?25h"
          ]
        }
      ]
    },
    {
      "cell_type": "code",
      "source": [
        "# copying checkpoints \n",
        "!cp -r /content/drive/MyDrive/ARU/ML\\ Project/train_outputs ./"
      ],
      "metadata": {
        "id": "9Ia3CJmG0yly"
      },
      "execution_count": 4,
      "outputs": []
    },
    {
      "cell_type": "code",
      "source": [
        "import os\n",
        "\n",
        "import tensorflow as tf\n",
        "import tensorflow_hub as hub\n",
        "import matplotlib.pyplot as plt\n",
        "import tensorflow_text as text\n",
        "import pandas as pd\n",
        "import json\n",
        "from tqdm import tqdm\n",
        "import numpy as np\n",
        "\n",
        "\n",
        "\n",
        "tf.get_logger().setLevel('ERROR')"
      ],
      "metadata": {
        "id": "OMkfxtfW0375"
      },
      "execution_count": 16,
      "outputs": []
    },
    {
      "cell_type": "code",
      "source": [
        "tf.__version__"
      ],
      "metadata": {
        "colab": {
          "base_uri": "https://localhost:8080/",
          "height": 35
        },
        "id": "1dQXQ2JK0_x9",
        "outputId": "b0588c59-2aad-4cd7-ef97-aff195540a1f"
      },
      "execution_count": 6,
      "outputs": [
        {
          "output_type": "execute_result",
          "data": {
            "text/plain": [
              "'2.8.0'"
            ],
            "application/vnd.google.colaboratory.intrinsic+json": {
              "type": "string"
            }
          },
          "metadata": {},
          "execution_count": 6
        }
      ]
    },
    {
      "cell_type": "markdown",
      "source": [
        "## Data preparation"
      ],
      "metadata": {
        "id": "haNzkDGA1Ii3"
      }
    },
    {
      "cell_type": "code",
      "source": [
        "BATCH_SIZE = 32\n",
        "SEED = 10\n",
        "AUTOTUNE = tf.data.AUTOTUNE"
      ],
      "metadata": {
        "id": "VNtOsxtC1CNF"
      },
      "execution_count": 8,
      "outputs": []
    },
    {
      "cell_type": "code",
      "source": [
        "def generate_batch_dataset_from_csv(csv_path:str):\n",
        "  df = pd.read_csv(csv_path)\n",
        "  dataset = tf.data.Dataset.from_tensor_slices(\n",
        "      (\n",
        "          df['text'].values,\n",
        "          df['label'].values\n",
        "      )\n",
        "  )\n",
        "  print(f\"{len(dataset)}\\n{dataset.element_spec}\")\n",
        "  return dataset.batch(batch_size=BATCH_SIZE)"
      ],
      "metadata": {
        "id": "ehnnlyvt1L5r"
      },
      "execution_count": 9,
      "outputs": []
    },
    {
      "cell_type": "code",
      "source": [
        "train_ds = generate_batch_dataset_from_csv(csv_path='./data/train_data.csv')\n",
        "test_ds = generate_batch_dataset_from_csv(csv_path='./data/test_data.csv')"
      ],
      "metadata": {
        "colab": {
          "base_uri": "https://localhost:8080/"
        },
        "id": "rLrWV9hk1NrS",
        "outputId": "678fbb4e-c874-4cfa-a1e0-fc0a61717d6a"
      },
      "execution_count": 10,
      "outputs": [
        {
          "output_type": "stream",
          "name": "stdout",
          "text": [
            "32906\n",
            "(TensorSpec(shape=(), dtype=tf.string, name=None), TensorSpec(shape=(), dtype=tf.int64, name=None))\n",
            "5438\n",
            "(TensorSpec(shape=(), dtype=tf.string, name=None), TensorSpec(shape=(), dtype=tf.int64, name=None))\n"
          ]
        }
      ]
    },
    {
      "cell_type": "code",
      "source": [
        "train_ds = train_ds.cache().prefetch(buffer_size=AUTOTUNE)\n",
        "test_ds = test_ds.cache().prefetch(buffer_size=AUTOTUNE)"
      ],
      "metadata": {
        "id": "rOg9RU-u1Pks"
      },
      "execution_count": 11,
      "outputs": []
    },
    {
      "cell_type": "code",
      "source": [
        "# Load labels \n",
        "with open('./data/label_names.json') as rb:\n",
        "  label_names = json.load(rb)\n",
        "print(f\"Loaded {len(label_names)} labels\")\n",
        "print(f\"Labels : {label_names}\")"
      ],
      "metadata": {
        "colab": {
          "base_uri": "https://localhost:8080/"
        },
        "id": "WHQiMPgT1RUA",
        "outputId": "de56d0e4-32c2-4cc8-ecb6-c726799de216"
      },
      "execution_count": 12,
      "outputs": [
        {
          "output_type": "stream",
          "name": "stdout",
          "text": [
            "Loaded 25 labels\n",
            "Labels : ['Amendments', 'Assignments', 'Compliance With Laws', 'Confidentiality', 'Counterparts', 'Entire Agreements', 'Expenses', 'Financial Statements', 'Further Assurances', 'General', 'Governing Laws', 'Indemnifications', 'Insurances', 'Litigations', 'No Conflicts', 'Notices', 'Payments', 'Severability', 'Survival', 'Taxes', 'Terminations', 'Terms', 'Use Of Proceeds', 'Waiver Of Jury Trials', 'Waivers']\n"
          ]
        }
      ]
    },
    {
      "cell_type": "markdown",
      "source": [
        "## Load checkpoints"
      ],
      "metadata": {
        "id": "GARRL_lH1T68"
      }
    },
    {
      "cell_type": "code",
      "source": [
        "checkpoints_root_dir = './train_outputs'\n",
        "def get_checkpoint_dir(epoch_number:int):\n",
        "  checkpoint_path = os.path.join(checkpoints_root_dir, f\"mymodel_{epoch_number}\")\n",
        "  if os.path.exists(checkpoint_path):\n",
        "    return checkpoint_path\n",
        "  raise ValueError(f\"{checkpoint_path} doesn't exists\")\n",
        "\n",
        "\n",
        "def load_model(model_path:str):\n",
        "  print(f\"Loading model from {model_path}\")\n",
        "  return tf.keras.models.load_model(model_path)"
      ],
      "metadata": {
        "id": "yjkAsD5M1S4k"
      },
      "execution_count": 17,
      "outputs": []
    },
    {
      "cell_type": "code",
      "source": [
        "#load models\n",
        "checkpoint_models = []\n",
        "epochs = [2,4,5,6]\n",
        "for epoch in tqdm(epochs):\n",
        "  model_path = get_checkpoint_dir(epoch)\n",
        "  checkpoint_models.append(load_model(model_path=model_path))"
      ],
      "metadata": {
        "colab": {
          "base_uri": "https://localhost:8080/"
        },
        "id": "PNhQ3M9x1aSy",
        "outputId": "bae29e93-4487-4687-d2cb-db1551d197b6"
      },
      "execution_count": 18,
      "outputs": [
        {
          "output_type": "stream",
          "name": "stderr",
          "text": [
            "\r  0%|          | 0/4 [00:00<?, ?it/s]"
          ]
        },
        {
          "output_type": "stream",
          "name": "stdout",
          "text": [
            "Loading model from ./train_outputs/mymodel_2\n"
          ]
        },
        {
          "output_type": "stream",
          "name": "stderr",
          "text": [
            "\r 25%|██▌       | 1/4 [00:11<00:35, 11.85s/it]"
          ]
        },
        {
          "output_type": "stream",
          "name": "stdout",
          "text": [
            "Loading model from ./train_outputs/mymodel_4\n"
          ]
        },
        {
          "output_type": "stream",
          "name": "stderr",
          "text": [
            "\r 50%|█████     | 2/4 [00:23<00:23, 11.60s/it]"
          ]
        },
        {
          "output_type": "stream",
          "name": "stdout",
          "text": [
            "Loading model from ./train_outputs/mymodel_5\n"
          ]
        },
        {
          "output_type": "stream",
          "name": "stderr",
          "text": [
            "\r 75%|███████▌  | 3/4 [00:35<00:12, 12.00s/it]"
          ]
        },
        {
          "output_type": "stream",
          "name": "stdout",
          "text": [
            "Loading model from ./train_outputs/mymodel_6\n"
          ]
        },
        {
          "output_type": "stream",
          "name": "stderr",
          "text": [
            "100%|██████████| 4/4 [00:46<00:00, 11.70s/it]\n"
          ]
        }
      ]
    },
    {
      "cell_type": "markdown",
      "source": [
        "## Run self influence"
      ],
      "metadata": {
        "id": "sJI-MSG81tOh"
      }
    },
    {
      "cell_type": "code",
      "source": [
        "def compute_self_influence(inputs, models):\n",
        "  # Refered from the TracIn, https://arxiv.org/pdf/2002.08484.pdf\n",
        "  texts , labels = inputs\n",
        "  self_influences = []\n",
        "  for checkpoint_model in models:\n",
        "    # picking weights from the last  two fully connected layer.\n",
        "    with tf.GradientTape(watch_accessed_variables=False) as tape:\n",
        "      tape.watch(checkpoint_model.trainable_weights[-2:])\n",
        "      logits = checkpoint_model(texts)\n",
        "      probs = tf.nn.softmax(logits)\n",
        "      loss = tf.keras.losses.sparse_categorical_crossentropy(labels, probs)\n",
        "    \n",
        "    grads = tape.jacobian(loss, checkpoint_model.trainable_weights[-2:])\n",
        "    scores = tf.add_n([tf.math.reduce_sum(\n",
        "        grad * grad, axis=tf.range(1, tf.rank(grad), 1)) \n",
        "        for grad in grads])\n",
        "    self_influences.append(scores)  \n",
        "\n",
        "    probs, predicted_labels = tf.math.top_k(probs, k=1)\n",
        "    return texts,  tf.math.reduce_sum(tf.stack(self_influences, axis=-1), axis=-1), labels, probs, predicted_labels\n",
        "  \n",
        "\n",
        "def run(dataset):\n",
        "  texts = []\n",
        "  scores = []\n",
        "  labels = []\n",
        "  predict_probs = []\n",
        "  predict_labels = []\n",
        "  \n",
        "  for batch in tqdm(dataset):\n",
        "    b_texts , b_scores , b_labels, b_probs , b_predicted_labels = compute_self_influence(inputs=batch, models=checkpoint_models)\n",
        "    texts.append(b_texts.numpy())\n",
        "    scores.append(b_scores.numpy())\n",
        "    labels.append(b_labels.numpy())\n",
        "    predict_probs.append(b_probs.numpy())\n",
        "    predict_labels.append(b_predicted_labels.numpy())\n",
        "  \n",
        "  return {\n",
        "      'texts' : np.concatenate(texts),\n",
        "      'self_influence_scores' : np.concatenate(scores),\n",
        "      'labels' : np.concatenate(labels),\n",
        "      'predicted_probs' : np.concatenate(predict_probs),\n",
        "      'predicted_labels' : np.concatenate(predict_labels)\n",
        "  }\n"
      ],
      "metadata": {
        "id": "LYIVrOgN1r6-"
      },
      "execution_count": 50,
      "outputs": []
    },
    {
      "cell_type": "code",
      "source": [
        "res = run(train_ds)"
      ],
      "metadata": {
        "colab": {
          "base_uri": "https://localhost:8080/"
        },
        "id": "d1sjViAb1cDX",
        "outputId": "89226bd4-637d-4ec7-c687-ba387ef5f2d5"
      },
      "execution_count": 42,
      "outputs": [
        {
          "output_type": "stream",
          "name": "stderr",
          "text": [
            "100%|██████████| 1/1 [00:05<00:00,  5.12s/it]\n"
          ]
        }
      ]
    },
    {
      "cell_type": "code",
      "source": [
        "def get_label_name_from_index(index):\n",
        "  return label_names[index]\n",
        "\n",
        "def save_result(self_incluence_features, topk=10):\n",
        "  sorted_indices = np.argsort(-self_incluence_features['self_influence_scores'])\n",
        "  result = []\n",
        "  for index in sorted_indices[:topk]:\n",
        "    result.append(\n",
        "        {\n",
        "            \"text\" : self_incluence_features['texts'][index],\n",
        "            \"actaul_label\" : get_label_name_from_index(self_incluence_features['labels'][index]),\n",
        "            \"predicted_label\" : get_label_name_from_index(self_incluence_features['predicted_labels'][index][0]),\n",
        "            \"confidence\" : self_incluence_features['predicted_probs'][index][0],\n",
        "            \"self_influence_score\" : self_incluence_features['self_influence_scores'][index],\n",
        "        }\n",
        "    )\n",
        "  \n",
        "  return result"
      ],
      "metadata": {
        "id": "Dx5pWDMj465Y"
      },
      "execution_count": 48,
      "outputs": []
    },
    {
      "cell_type": "code",
      "source": [
        "save_result(res)"
      ],
      "metadata": {
        "colab": {
          "base_uri": "https://localhost:8080/"
        },
        "id": "kW4JeDKH6vIz",
        "outputId": "ae25790d-092a-444e-b9ed-d0f77f46f8b3"
      },
      "execution_count": 49,
      "outputs": [
        {
          "output_type": "execute_result",
          "data": {
            "text/plain": [
              "[{'actaul_label': 'Litigations',\n",
              "  'confidence': 0.6382746,\n",
              "  'predicted_label': 'Notices',\n",
              "  'self_influence_score': 153.02077,\n",
              "  'text': b'From the date hereof through the Closing, each party hereto shall promptly notify the representative of the other parties of any known Proceeding which after the date hereof are threatened or commenced against such party or any of its affiliates or any officer, director, employee, consultant, agent or Acquiree Company Record Owners thereof, in their capacities as such, which, if decided adversely, could reasonably be expected to have a Material Adverse Effect upon the condition (financial or otherwise), assets, liabilities, business, operations or prospects of such party or any of its Subsidiaries.'},\n",
              " {'actaul_label': 'Confidentiality',\n",
              "  'confidence': 0.68292475,\n",
              "  'predicted_label': 'Confidentiality',\n",
              "  'self_influence_score': 17.870857,\n",
              "  'text': b'You agree to hold the facts and circumstances surrounding the execution of this Agreement and the Supplemental Release in strictest confidence.'},\n",
              " {'actaul_label': 'Financial Statements',\n",
              "  'confidence': 0.8068208,\n",
              "  'predicted_label': 'Financial Statements',\n",
              "  'self_influence_score': 10.940768,\n",
              "  'text': b'Borrower or any Guarantor fails to provide the Lender with financial statements, tax returns or other information within thirty (30) days of Lender\\xe2\\x80\\x99s request..'},\n",
              " {'actaul_label': 'Waivers',\n",
              "  'confidence': 0.87115294,\n",
              "  'predicted_label': 'Waivers',\n",
              "  'self_influence_score': 3.357659,\n",
              "  'text': b'Any provision for the benefit of the Company contained in these Terms and Conditions may be waived, either generally or in any particular instance, by the Board of Directors of the Company or a duly authorized committee thereof.'},\n",
              " {'actaul_label': 'Waivers',\n",
              "  'confidence': 0.91107005,\n",
              "  'predicted_label': 'Waivers',\n",
              "  'self_influence_score': 2.0276384,\n",
              "  'text': b'Except as otherwise set forth in this Debenture, the Company, for itself and its legal representatives, successors and assigns, expressly waives presentment, protest, demand, notice of dishonor, notice of nonpayment, notice of maturity, notice of protest, presentment for the purpose of accelerating maturity, and diligence in collection.'},\n",
              " {'actaul_label': 'Assignments',\n",
              "  'confidence': 0.9537873,\n",
              "  'predicted_label': 'Assignments',\n",
              "  'self_influence_score': 0.6044673,\n",
              "  'text': b'Minera William shall not fully or partially transfer its right to receive the Royalty without the prior written consent of GTM and without first offering to transfer such interest to GTM on the same terms, conditions and price on which Payee intends to transfer the same to an unrelated third party. GTM may assign its rights and obligations under this Exhibit\\xc2\\xa0\\xe2\\x80\\x9cA\\xe2\\x80\\x9d without the prior written consent of Minera William, provided that the assignee agrees in writing to be bound by the terms of this Exhibit\\xc2\\xa0\\xe2\\x80\\x9cA\\xe2\\x80\\x9d and so notifies in writing to Minera William.'},\n",
              " {'actaul_label': 'Compliance With Laws',\n",
              "  'confidence': 0.9689012,\n",
              "  'predicted_label': 'Compliance With Laws',\n",
              "  'self_influence_score': 0.24049528,\n",
              "  'text': b'Neither the Company\\xe2\\x80\\x99s ownership of the assets, nor, to such Assignor\\xe2\\x80\\x99s knowledge, the operation of the Company\\xe2\\x80\\x99s assets is in violation of any applicable laws, licenses and permits, including any applicable environmental laws, licenses and permits, in any material respect.'},\n",
              " {'actaul_label': 'General',\n",
              "  'confidence': 0.9754917,\n",
              "  'predicted_label': 'General',\n",
              "  'self_influence_score': 0.14775103,\n",
              "  'text': b'Subject to the terms and conditions set forth herein, at the request of any Account Party the Lenders agree at any time and from time to time during the Availability Period to issue Non-Syndicated Letters of Credit for the account of such Account Party in an aggregate amount that will not result in the Aggregate Credit Exposure exceeding the Commitments (it being understood that Non-Syndicated Letters of Credit may be issued, or be outstanding, for the account of more than one of the Account Parties at any time).'},\n",
              " {'actaul_label': 'Further Assurances',\n",
              "  'confidence': 0.9740728,\n",
              "  'predicted_label': 'Further Assurances',\n",
              "  'self_influence_score': 0.13712394,\n",
              "  'text': b'From time to time, as and when required by the Surviving Corporation or by its successors or assigns, there shall be executed and delivered on behalf of Ashford (DE) such deeds and other instruments, and there shall be taken or caused to be taken by it all such further and other action, as shall be appropriate, advisable or necessary in order to vest, perfect or confirm, of record or otherwise, in the Surviving Corporation the title to and possession of all property, interests, assets, rights, privileges, immunities, powers, franchises and authority of Ashford (DE), and otherwise to carry out the purposes of this Agreement.\\xc2\\xa0 The officers and directors of the Surviving Corporation are fully authorized in the name and on behalf of Ashford (DE) or otherwise, to take any and all such action and to execute and deliver any and all such deeds and other instruments.'},\n",
              " {'actaul_label': 'Waiver Of Jury Trials',\n",
              "  'confidence': 0.9852739,\n",
              "  'predicted_label': 'Waiver Of Jury Trials',\n",
              "  'self_influence_score': 0.052895177,\n",
              "  'text': b'Notwithstanding anything herein to the contrary, the Company shall have the right to enforce the provisions of Section\\xc2\\xa03.3 through an action, suit or proceeding brought in any federal court located in the State of Colorado or any Colorado state court, and each Participant consents to the exclusive jurisdiction and venue of such courts (and of the appropriate appellate courts therefrom) in any such action, suit or proceeding and irrevocably waives, to the fullest extent permitted by law, any right to a jury trial and any objection that such party may now or hereafter have to the laying of the venue of any such action, suit or proceeding in any such court or that any such action, suit or proceeding brought in any such court has been brought in an inconvenient forum.'}]"
            ]
          },
          "metadata": {},
          "execution_count": 49
        }
      ]
    },
    {
      "cell_type": "code",
      "source": [
        ""
      ],
      "metadata": {
        "id": "x3_OkB7e80I4"
      },
      "execution_count": null,
      "outputs": []
    }
  ]
}